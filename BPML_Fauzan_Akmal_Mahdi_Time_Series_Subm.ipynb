{
  "nbformat": 4,
  "nbformat_minor": 0,
  "metadata": {
    "colab": {
      "name": "BPML Fauzan Akmal Mahdi - Time Series Subm.ipynb",
      "provenance": [],
      "collapsed_sections": []
    },
    "kernelspec": {
      "name": "python3",
      "display_name": "Python 3"
    },
    "language_info": {
      "name": "python"
    }
  },
  "cells": [
    {
      "cell_type": "code",
      "metadata": {
        "id": "lxV36cvAxE22"
      },
      "source": [
        "import numpy as np\n",
        "import pandas as pd\n",
        "from keras.layers import Dense, LSTM\n",
        "import matplotlib.pyplot as plt\n",
        "import tensorflow as tf"
      ],
      "execution_count": null,
      "outputs": []
    },
    {
      "cell_type": "code",
      "metadata": {
        "colab": {
          "base_uri": "https://localhost:8080/",
          "height": 419
        },
        "id": "mpAjd43Iu4mA",
        "outputId": "5107fc51-5191-456e-b48d-31194fe84e49"
      },
      "source": [
        "path = \"D202.csv\"\n",
        "df = pd.read_csv(path)\n",
        "#df = df.sample(frac=0.03)\n",
        "#df.reset_index(drop=True, inplace=True)\n",
        "df"
      ],
      "execution_count": null,
      "outputs": [
        {
          "output_type": "execute_result",
          "data": {
            "text/html": [
              "<div>\n",
              "<style scoped>\n",
              "    .dataframe tbody tr th:only-of-type {\n",
              "        vertical-align: middle;\n",
              "    }\n",
              "\n",
              "    .dataframe tbody tr th {\n",
              "        vertical-align: top;\n",
              "    }\n",
              "\n",
              "    .dataframe thead th {\n",
              "        text-align: right;\n",
              "    }\n",
              "</style>\n",
              "<table border=\"1\" class=\"dataframe\">\n",
              "  <thead>\n",
              "    <tr style=\"text-align: right;\">\n",
              "      <th></th>\n",
              "      <th>TYPE</th>\n",
              "      <th>DATE</th>\n",
              "      <th>START TIME</th>\n",
              "      <th>END TIME</th>\n",
              "      <th>USAGE</th>\n",
              "      <th>UNITS</th>\n",
              "      <th>COST</th>\n",
              "      <th>NOTES</th>\n",
              "    </tr>\n",
              "  </thead>\n",
              "  <tbody>\n",
              "    <tr>\n",
              "      <th>0</th>\n",
              "      <td>Electric usage</td>\n",
              "      <td>10/22/2016</td>\n",
              "      <td>0:00</td>\n",
              "      <td>0:14</td>\n",
              "      <td>0.01</td>\n",
              "      <td>kWh</td>\n",
              "      <td>$0.00</td>\n",
              "      <td>NaN</td>\n",
              "    </tr>\n",
              "    <tr>\n",
              "      <th>1</th>\n",
              "      <td>Electric usage</td>\n",
              "      <td>10/22/2016</td>\n",
              "      <td>0:15</td>\n",
              "      <td>0:29</td>\n",
              "      <td>0.01</td>\n",
              "      <td>kWh</td>\n",
              "      <td>$0.00</td>\n",
              "      <td>NaN</td>\n",
              "    </tr>\n",
              "    <tr>\n",
              "      <th>2</th>\n",
              "      <td>Electric usage</td>\n",
              "      <td>10/22/2016</td>\n",
              "      <td>0:30</td>\n",
              "      <td>0:44</td>\n",
              "      <td>0.01</td>\n",
              "      <td>kWh</td>\n",
              "      <td>$0.00</td>\n",
              "      <td>NaN</td>\n",
              "    </tr>\n",
              "    <tr>\n",
              "      <th>3</th>\n",
              "      <td>Electric usage</td>\n",
              "      <td>10/22/2016</td>\n",
              "      <td>0:45</td>\n",
              "      <td>0:59</td>\n",
              "      <td>0.01</td>\n",
              "      <td>kWh</td>\n",
              "      <td>$0.00</td>\n",
              "      <td>NaN</td>\n",
              "    </tr>\n",
              "    <tr>\n",
              "      <th>4</th>\n",
              "      <td>Electric usage</td>\n",
              "      <td>10/22/2016</td>\n",
              "      <td>1:00</td>\n",
              "      <td>1:14</td>\n",
              "      <td>0.01</td>\n",
              "      <td>kWh</td>\n",
              "      <td>$0.00</td>\n",
              "      <td>NaN</td>\n",
              "    </tr>\n",
              "    <tr>\n",
              "      <th>...</th>\n",
              "      <td>...</td>\n",
              "      <td>...</td>\n",
              "      <td>...</td>\n",
              "      <td>...</td>\n",
              "      <td>...</td>\n",
              "      <td>...</td>\n",
              "      <td>...</td>\n",
              "      <td>...</td>\n",
              "    </tr>\n",
              "    <tr>\n",
              "      <th>70363</th>\n",
              "      <td>Electric usage</td>\n",
              "      <td>10/24/2018</td>\n",
              "      <td>22:45</td>\n",
              "      <td>22:59</td>\n",
              "      <td>0.02</td>\n",
              "      <td>kWh</td>\n",
              "      <td>$0.00</td>\n",
              "      <td>NaN</td>\n",
              "    </tr>\n",
              "    <tr>\n",
              "      <th>70364</th>\n",
              "      <td>Electric usage</td>\n",
              "      <td>10/24/2018</td>\n",
              "      <td>23:00</td>\n",
              "      <td>23:14</td>\n",
              "      <td>0.03</td>\n",
              "      <td>kWh</td>\n",
              "      <td>$0.01</td>\n",
              "      <td>NaN</td>\n",
              "    </tr>\n",
              "    <tr>\n",
              "      <th>70365</th>\n",
              "      <td>Electric usage</td>\n",
              "      <td>10/24/2018</td>\n",
              "      <td>23:15</td>\n",
              "      <td>23:29</td>\n",
              "      <td>0.03</td>\n",
              "      <td>kWh</td>\n",
              "      <td>$0.01</td>\n",
              "      <td>NaN</td>\n",
              "    </tr>\n",
              "    <tr>\n",
              "      <th>70366</th>\n",
              "      <td>Electric usage</td>\n",
              "      <td>10/24/2018</td>\n",
              "      <td>23:30</td>\n",
              "      <td>23:44</td>\n",
              "      <td>0.03</td>\n",
              "      <td>kWh</td>\n",
              "      <td>$0.01</td>\n",
              "      <td>NaN</td>\n",
              "    </tr>\n",
              "    <tr>\n",
              "      <th>70367</th>\n",
              "      <td>Electric usage</td>\n",
              "      <td>10/24/2018</td>\n",
              "      <td>23:45</td>\n",
              "      <td>23:59</td>\n",
              "      <td>0.03</td>\n",
              "      <td>kWh</td>\n",
              "      <td>$0.01</td>\n",
              "      <td>NaN</td>\n",
              "    </tr>\n",
              "  </tbody>\n",
              "</table>\n",
              "<p>70368 rows × 8 columns</p>\n",
              "</div>"
            ],
            "text/plain": [
              "                 TYPE        DATE START TIME  ... UNITS    COST NOTES\n",
              "0      Electric usage  10/22/2016       0:00  ...   kWh  $0.00    NaN\n",
              "1      Electric usage  10/22/2016       0:15  ...   kWh  $0.00    NaN\n",
              "2      Electric usage  10/22/2016       0:30  ...   kWh  $0.00    NaN\n",
              "3      Electric usage  10/22/2016       0:45  ...   kWh  $0.00    NaN\n",
              "4      Electric usage  10/22/2016       1:00  ...   kWh  $0.00    NaN\n",
              "...               ...         ...        ...  ...   ...     ...   ...\n",
              "70363  Electric usage  10/24/2018      22:45  ...   kWh  $0.00    NaN\n",
              "70364  Electric usage  10/24/2018      23:00  ...   kWh  $0.01    NaN\n",
              "70365  Electric usage  10/24/2018      23:15  ...   kWh  $0.01    NaN\n",
              "70366  Electric usage  10/24/2018      23:30  ...   kWh  $0.01    NaN\n",
              "70367  Electric usage  10/24/2018      23:45  ...   kWh  $0.01    NaN\n",
              "\n",
              "[70368 rows x 8 columns]"
            ]
          },
          "metadata": {
            "tags": []
          },
          "execution_count": 73
        }
      ]
    },
    {
      "cell_type": "code",
      "metadata": {
        "colab": {
          "base_uri": "https://localhost:8080/"
        },
        "id": "_7IXtvS2xJ26",
        "outputId": "1a70c642-1e83-4d99-9c18-50ee59c2943e"
      },
      "source": [
        "print(df.isnull().sum())"
      ],
      "execution_count": null,
      "outputs": [
        {
          "output_type": "stream",
          "text": [
            "TYPE              0\n",
            "DATE              0\n",
            "START TIME        0\n",
            "END TIME          0\n",
            "USAGE             0\n",
            "UNITS             0\n",
            "COST              0\n",
            "NOTES         70368\n",
            "dtype: int64\n"
          ],
          "name": "stdout"
        }
      ]
    },
    {
      "cell_type": "code",
      "metadata": {
        "id": "GJWHcfa2xNMx"
      },
      "source": [
        "#df = df.sample(frac=0.002)\n",
        "#df = df.drop([0])\n",
        "#df = df.drop(columns=['NOTES'])\n",
        "dates = df['DATE'].values\n",
        "temp = df['USAGE'].values\n"
      ],
      "execution_count": null,
      "outputs": []
    },
    {
      "cell_type": "code",
      "metadata": {
        "colab": {
          "base_uri": "https://localhost:8080/",
          "height": 259
        },
        "id": "ImVy73f0xOxT",
        "outputId": "e4812071-b710-49e4-9719-5cd359f18dbc"
      },
      "source": [
        "plt.figure(figsize=(20,5))\n",
        "plt.plot(dates, temp)\n",
        "plt.ylim([0,2.5])\n",
        "plt.ylabel('Usage')\n",
        "plt.xlabel('Date')\n",
        "plt.title('Usage', fontsize=20);"
      ],
      "execution_count": null,
      "outputs": [
        {
          "output_type": "display_data",
          "data": {
            "image/png": "[encoded data removed]",
            "text/plain": [
              "<Figure size 1440x360 with 1 Axes>"
            ]
          },
          "metadata": {
            "tags": [],
            "needs_background": "light"
          }
        }
      ]
    },
    {
      "cell_type": "markdown",
      "metadata": {
        "id": "SjCgII0IdAxi"
      },
      "source": [
        "Bagi dataset"
      ]
    },
    {
      "cell_type": "code",
      "metadata": {
        "id": "nUdDSGR7dBvg"
      },
      "source": [
        "from sklearn.model_selection import train_test_split\n",
        "x_latih, x_test, y_latih, y_test = train_test_split(temp, dates, test_size = 0.2)"
      ],
      "execution_count": null,
      "outputs": []
    },
    {
      "cell_type": "markdown",
      "metadata": {
        "id": "rad6Bbq_d2bA"
      },
      "source": [
        "Total pembagian data"
      ]
    },
    {
      "cell_type": "code",
      "metadata": {
        "colab": {
          "base_uri": "https://localhost:8080/"
        },
        "id": "KWU0whEydu-z",
        "outputId": "5e4aac73-e7ee-45c0-e0e3-e0cd5b76d5dd"
      },
      "source": [
        "print(\"Training data: \", len(x_latih))\n",
        "print(\"Val data: \", len(x_test))"
      ],
      "execution_count": null,
      "outputs": [
        {
          "output_type": "stream",
          "text": [
            "Training data:  56294\n",
            "Val data:  14074\n"
          ],
          "name": "stdout"
        }
      ]
    },
    {
      "cell_type": "code",
      "metadata": {
        "id": "hLX0fWisxTbK"
      },
      "source": [
        "def windowed_dataset(series, window_size, batch_size, shuffle_buffer):\n",
        "    series = tf.expand_dims(series, axis=-1)\n",
        "    ds = tf.data.Dataset.from_tensor_slices(series)\n",
        "    ds = ds.window(window_size + 1, shift=1, drop_remainder=True)\n",
        "    ds = ds.flat_map(lambda w: w.batch(window_size + 1))\n",
        "    ds = ds.shuffle(shuffle_buffer)\n",
        "    ds = ds.map(lambda w: (w[:-1], w[-1:]))\n",
        "    return ds.batch(batch_size).prefetch(1)"
      ],
      "execution_count": null,
      "outputs": []
    },
    {
      "cell_type": "code",
      "metadata": {
        "id": "wwG6LpHdxU3U"
      },
      "source": [
        "train_set = windowed_dataset(x_latih, window_size=60, batch_size=100, shuffle_buffer=1000)\n",
        "val_set = windowed_dataset(x_test, window_size=60, batch_size=100, shuffle_buffer=1000)"
      ],
      "execution_count": null,
      "outputs": []
    },
    {
      "cell_type": "markdown",
      "metadata": {
        "id": "b5Vq94gUeUcd"
      },
      "source": [
        "Buat Model"
      ]
    },
    {
      "cell_type": "code",
      "metadata": {
        "id": "_4L3wuZLeTPg"
      },
      "source": [
        "model = tf.keras.models.Sequential([\n",
        "  tf.keras.layers.LSTM(60, return_sequences=True),\n",
        "  tf.keras.layers.LSTM(60),\n",
        "  tf.keras.layers.Dense(30, activation=\"relu\"),\n",
        "  tf.keras.layers.Dense(10, activation=\"relu\"),\n",
        "  tf.keras.layers.Dense(1),\n",
        "])"
      ],
      "execution_count": null,
      "outputs": []
    },
    {
      "cell_type": "markdown",
      "metadata": {
        "id": "IWK4Uiv3fPwx"
      },
      "source": [
        "Menghitung MAE (Mean Absolute Error)"
      ]
    },
    {
      "cell_type": "code",
      "metadata": {
        "colab": {
          "base_uri": "https://localhost:8080/"
        },
        "id": "xsbci3Sre8jQ",
        "outputId": "b2789d9a-a3dd-45ff-ff87-b573de6979ff"
      },
      "source": [
        "Mae = (df['USAGE'].max() - df['USAGE'].min()) * 10/100\n",
        "print(Mae)"
      ],
      "execution_count": null,
      "outputs": [
        {
          "output_type": "stream",
          "text": [
            "0.236\n"
          ],
          "name": "stdout"
        }
      ]
    },
    {
      "cell_type": "markdown",
      "metadata": {
        "id": "DWHS-Sp4fWkU"
      },
      "source": [
        "Penggunaan Callback"
      ]
    },
    {
      "cell_type": "code",
      "metadata": {
        "id": "VGNQzKDIfYLf"
      },
      "source": [
        "class myCallback(tf.keras.callbacks.Callback):\n",
        "  def on_epoch_end(self, epoch, logs={}):\n",
        "    if(logs.get('mae')<2.0 and logs.get('val_mae')<2.0):\n",
        "      print(\"\\nMAE dari model < 10% skala data\")\n",
        "      self.model.stop_training = True\n",
        "callbacks = myCallback()"
      ],
      "execution_count": null,
      "outputs": []
    },
    {
      "cell_type": "code",
      "metadata": {
        "colab": {
          "base_uri": "https://localhost:8080/"
        },
        "id": "bwYjgx4wxWoY",
        "outputId": "59fdb858-f063-4bdb-82a9-17864f5cd910"
      },
      "source": [
        "optimizer = tf.keras.optimizers.SGD(learning_rate=1.0000e-04, momentum=0.9)\n",
        "\n",
        "model.compile(loss=tf.keras.losses.Huber(),\n",
        "              optimizer=optimizer,\n",
        "              metrics=[\"mae\"])\n",
        "\n",
        "history = model.fit(train_set, epochs=15, \n",
        "                    validation_data = val_set,\n",
        "                    batch_size=1024,\n",
        "                    #callbacks=[callbacks]\n",
        "                    )"
      ],
      "execution_count": null,
      "outputs": [
        {
          "output_type": "stream",
          "text": [
            "Epoch 1/15\n",
            "563/563 [==============================] - 47s 79ms/step - loss: 0.0207 - mae: 0.1080 - val_loss: 0.0207 - val_mae: 0.1120\n",
            "Epoch 2/15\n",
            "563/563 [==============================] - 45s 79ms/step - loss: 0.0207 - mae: 0.1118 - val_loss: 0.0207 - val_mae: 0.1133\n",
            "Epoch 3/15\n",
            "563/563 [==============================] - 45s 80ms/step - loss: 0.0207 - mae: 0.1124 - val_loss: 0.0207 - val_mae: 0.1135\n",
            "Epoch 4/15\n",
            "563/563 [==============================] - 46s 82ms/step - loss: 0.0207 - mae: 0.1125 - val_loss: 0.0207 - val_mae: 0.1135\n",
            "Epoch 5/15\n",
            "563/563 [==============================] - 44s 78ms/step - loss: 0.0207 - mae: 0.1125 - val_loss: 0.0207 - val_mae: 0.1135\n",
            "Epoch 6/15\n",
            "563/563 [==============================] - 44s 78ms/step - loss: 0.0207 - mae: 0.1125 - val_loss: 0.0207 - val_mae: 0.1136\n",
            "Epoch 7/15\n",
            "563/563 [==============================] - 44s 78ms/step - loss: 0.0207 - mae: 0.1125 - val_loss: 0.0207 - val_mae: 0.1135\n",
            "Epoch 8/15\n",
            "563/563 [==============================] - 44s 78ms/step - loss: 0.0207 - mae: 0.1125 - val_loss: 0.0207 - val_mae: 0.1135\n",
            "Epoch 9/15\n",
            "563/563 [==============================] - 44s 79ms/step - loss: 0.0207 - mae: 0.1125 - val_loss: 0.0207 - val_mae: 0.1135\n",
            "Epoch 10/15\n",
            "563/563 [==============================] - 44s 78ms/step - loss: 0.0207 - mae: 0.1125 - val_loss: 0.0207 - val_mae: 0.1135\n",
            "Epoch 11/15\n",
            "563/563 [==============================] - 44s 78ms/step - loss: 0.0207 - mae: 0.1126 - val_loss: 0.0207 - val_mae: 0.1135\n",
            "Epoch 12/15\n",
            "563/563 [==============================] - 44s 78ms/step - loss: 0.0207 - mae: 0.1125 - val_loss: 0.0207 - val_mae: 0.1135\n",
            "Epoch 13/15\n",
            "563/563 [==============================] - 44s 78ms/step - loss: 0.0207 - mae: 0.1125 - val_loss: 0.0207 - val_mae: 0.1135\n",
            "Epoch 14/15\n",
            "563/563 [==============================] - 44s 78ms/step - loss: 0.0207 - mae: 0.1125 - val_loss: 0.0207 - val_mae: 0.1136\n",
            "Epoch 15/15\n",
            "563/563 [==============================] - 44s 78ms/step - loss: 0.0207 - mae: 0.1125 - val_loss: 0.0207 - val_mae: 0.1135\n"
          ],
          "name": "stdout"
        }
      ]
    },
    {
      "cell_type": "markdown",
      "metadata": {
        "id": "q_zkn_4Bf4wp"
      },
      "source": [
        "Plot Akurasi dan Loss"
      ]
    },
    {
      "cell_type": "markdown",
      "metadata": {
        "id": "lRF_LDNjf78i"
      },
      "source": [
        "Plot Akurasi"
      ]
    },
    {
      "cell_type": "code",
      "metadata": {
        "colab": {
          "base_uri": "https://localhost:8080/",
          "height": 295
        },
        "id": "sFZl565df6wO",
        "outputId": "25f9524c-dee7-420d-8c7a-1889a058b81e"
      },
      "source": [
        "plt.plot(history.history['mae'])\n",
        "plt.plot(history.history['val_mae'])\n",
        "plt.title('Akurasi Model')\n",
        "plt.ylabel('Mae')\n",
        "plt.xlabel('epoch')\n",
        "plt.legend(['Train', 'Val'], loc='upper left')\n",
        "plt.show()"
      ],
      "execution_count": null,
      "outputs": [
        {
          "output_type": "display_data",
          "data": {
            "image/png": "[encoded data removed]",
            "text/plain": [
              "<Figure size 432x288 with 1 Axes>"
            ]
          },
          "metadata": {
            "tags": [],
            "needs_background": "light"
          }
        }
      ]
    },
    {
      "cell_type": "markdown",
      "metadata": {
        "id": "L00vo0uaf_UC"
      },
      "source": [
        "Plot Loss"
      ]
    },
    {
      "cell_type": "code",
      "metadata": {
        "colab": {
          "base_uri": "https://localhost:8080/",
          "height": 295
        },
        "id": "JCDdFdvef_7U",
        "outputId": "73e8032a-a143-421c-b5c9-758da479914e"
      },
      "source": [
        "plt.plot(history.history['loss'])\n",
        "plt.plot(history.history['val_loss'])\n",
        "plt.title('Loss Model')\n",
        "plt.ylabel('loss')\n",
        "plt.xlabel('epoch')\n",
        "plt.legend(['Train', 'Val'], loc='upper left')\n",
        "plt.show()"
      ],
      "execution_count": null,
      "outputs": [
        {
          "output_type": "display_data",
          "data": {
            "image/png": "[encoded data removed]",
            "text/plain": [
              "<Figure size 432x288 with 1 Axes>"
            ]
          },
          "metadata": {
            "tags": [],
            "needs_background": "light"
          }
        }
      ]
    }
  ]
}