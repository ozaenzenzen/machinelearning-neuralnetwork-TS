{
  "nbformat": 4,
  "nbformat_minor": 0,
  "metadata": {
    "colab": {
      "name": "BPML Fauzan Akmal Mahdi - Time Series Subm.ipynb",
      "provenance": [],
      "collapsed_sections": []
    },
    "kernelspec": {
      "name": "python3",
      "display_name": "Python 3"
    },
    "language_info": {
      "name": "python"
    }
  },
  "cells": [
    {
      "cell_type": "markdown",
      "metadata": {
        "id": "6sgfOmSx54ei"
      },
      "source": [
        "Import library"
      ]
    },
    {
      "cell_type": "code",
      "metadata": {
        "id": "lxV36cvAxE22"
      },
      "source": [
        "import numpy as np\n",
        "import pandas as pd\n",
        "from keras.layers import Dense, LSTM\n",
        "import matplotlib.pyplot as plt\n",
        "import tensorflow as tf"
      ],
      "execution_count": 2,
      "outputs": []
    },
    {
      "cell_type": "markdown",
      "metadata": {
        "id": "Bs8W76qq50Oe"
      },
      "source": [
        "Baca Dataset"
      ]
    },
    {
      "cell_type": "code",
      "metadata": {
        "colab": {
          "base_uri": "https://localhost:8080/",
          "height": 419
        },
        "id": "mpAjd43Iu4mA",
        "outputId": "2a3f381c-ef3a-4dbc-c944-4c9019300bc9"
      },
      "source": [
        "path = \"D202.csv\"\n",
        "df = pd.read_csv(path)\n",
        "df"
      ],
      "execution_count": 3,
      "outputs": [
        {
          "output_type": "execute_result",
          "data": {
            "text/html": [
              "<div>\n",
              "<style scoped>\n",
              "    .dataframe tbody tr th:only-of-type {\n",
              "        vertical-align: middle;\n",
              "    }\n",
              "\n",
              "    .dataframe tbody tr th {\n",
              "        vertical-align: top;\n",
              "    }\n",
              "\n",
              "    .dataframe thead th {\n",
              "        text-align: right;\n",
              "    }\n",
              "</style>\n",
              "<table border=\"1\" class=\"dataframe\">\n",
              "  <thead>\n",
              "    <tr style=\"text-align: right;\">\n",
              "      <th></th>\n",
              "      <th>TYPE</th>\n",
              "      <th>DATE</th>\n",
              "      <th>START TIME</th>\n",
              "      <th>END TIME</th>\n",
              "      <th>USAGE</th>\n",
              "      <th>UNITS</th>\n",
              "      <th>COST</th>\n",
              "      <th>NOTES</th>\n",
              "    </tr>\n",
              "  </thead>\n",
              "  <tbody>\n",
              "    <tr>\n",
              "      <th>0</th>\n",
              "      <td>Electric usage</td>\n",
              "      <td>10/22/2016</td>\n",
              "      <td>0:00</td>\n",
              "      <td>0:14</td>\n",
              "      <td>0.01</td>\n",
              "      <td>kWh</td>\n",
              "      <td>$0.00</td>\n",
              "      <td>NaN</td>\n",
              "    </tr>\n",
              "    <tr>\n",
              "      <th>1</th>\n",
              "      <td>Electric usage</td>\n",
              "      <td>10/22/2016</td>\n",
              "      <td>0:15</td>\n",
              "      <td>0:29</td>\n",
              "      <td>0.01</td>\n",
              "      <td>kWh</td>\n",
              "      <td>$0.00</td>\n",
              "      <td>NaN</td>\n",
              "    </tr>\n",
              "    <tr>\n",
              "      <th>2</th>\n",
              "      <td>Electric usage</td>\n",
              "      <td>10/22/2016</td>\n",
              "      <td>0:30</td>\n",
              "      <td>0:44</td>\n",
              "      <td>0.01</td>\n",
              "      <td>kWh</td>\n",
              "      <td>$0.00</td>\n",
              "      <td>NaN</td>\n",
              "    </tr>\n",
              "    <tr>\n",
              "      <th>3</th>\n",
              "      <td>Electric usage</td>\n",
              "      <td>10/22/2016</td>\n",
              "      <td>0:45</td>\n",
              "      <td>0:59</td>\n",
              "      <td>0.01</td>\n",
              "      <td>kWh</td>\n",
              "      <td>$0.00</td>\n",
              "      <td>NaN</td>\n",
              "    </tr>\n",
              "    <tr>\n",
              "      <th>4</th>\n",
              "      <td>Electric usage</td>\n",
              "      <td>10/22/2016</td>\n",
              "      <td>1:00</td>\n",
              "      <td>1:14</td>\n",
              "      <td>0.01</td>\n",
              "      <td>kWh</td>\n",
              "      <td>$0.00</td>\n",
              "      <td>NaN</td>\n",
              "    </tr>\n",
              "    <tr>\n",
              "      <th>...</th>\n",
              "      <td>...</td>\n",
              "      <td>...</td>\n",
              "      <td>...</td>\n",
              "      <td>...</td>\n",
              "      <td>...</td>\n",
              "      <td>...</td>\n",
              "      <td>...</td>\n",
              "      <td>...</td>\n",
              "    </tr>\n",
              "    <tr>\n",
              "      <th>70363</th>\n",
              "      <td>Electric usage</td>\n",
              "      <td>10/24/2018</td>\n",
              "      <td>22:45</td>\n",
              "      <td>22:59</td>\n",
              "      <td>0.02</td>\n",
              "      <td>kWh</td>\n",
              "      <td>$0.00</td>\n",
              "      <td>NaN</td>\n",
              "    </tr>\n",
              "    <tr>\n",
              "      <th>70364</th>\n",
              "      <td>Electric usage</td>\n",
              "      <td>10/24/2018</td>\n",
              "      <td>23:00</td>\n",
              "      <td>23:14</td>\n",
              "      <td>0.03</td>\n",
              "      <td>kWh</td>\n",
              "      <td>$0.01</td>\n",
              "      <td>NaN</td>\n",
              "    </tr>\n",
              "    <tr>\n",
              "      <th>70365</th>\n",
              "      <td>Electric usage</td>\n",
              "      <td>10/24/2018</td>\n",
              "      <td>23:15</td>\n",
              "      <td>23:29</td>\n",
              "      <td>0.03</td>\n",
              "      <td>kWh</td>\n",
              "      <td>$0.01</td>\n",
              "      <td>NaN</td>\n",
              "    </tr>\n",
              "    <tr>\n",
              "      <th>70366</th>\n",
              "      <td>Electric usage</td>\n",
              "      <td>10/24/2018</td>\n",
              "      <td>23:30</td>\n",
              "      <td>23:44</td>\n",
              "      <td>0.03</td>\n",
              "      <td>kWh</td>\n",
              "      <td>$0.01</td>\n",
              "      <td>NaN</td>\n",
              "    </tr>\n",
              "    <tr>\n",
              "      <th>70367</th>\n",
              "      <td>Electric usage</td>\n",
              "      <td>10/24/2018</td>\n",
              "      <td>23:45</td>\n",
              "      <td>23:59</td>\n",
              "      <td>0.03</td>\n",
              "      <td>kWh</td>\n",
              "      <td>$0.01</td>\n",
              "      <td>NaN</td>\n",
              "    </tr>\n",
              "  </tbody>\n",
              "</table>\n",
              "<p>70368 rows × 8 columns</p>\n",
              "</div>"
            ],
            "text/plain": [
              "                 TYPE        DATE START TIME  ... UNITS    COST NOTES\n",
              "0      Electric usage  10/22/2016       0:00  ...   kWh  $0.00    NaN\n",
              "1      Electric usage  10/22/2016       0:15  ...   kWh  $0.00    NaN\n",
              "2      Electric usage  10/22/2016       0:30  ...   kWh  $0.00    NaN\n",
              "3      Electric usage  10/22/2016       0:45  ...   kWh  $0.00    NaN\n",
              "4      Electric usage  10/22/2016       1:00  ...   kWh  $0.00    NaN\n",
              "...               ...         ...        ...  ...   ...     ...   ...\n",
              "70363  Electric usage  10/24/2018      22:45  ...   kWh  $0.00    NaN\n",
              "70364  Electric usage  10/24/2018      23:00  ...   kWh  $0.01    NaN\n",
              "70365  Electric usage  10/24/2018      23:15  ...   kWh  $0.01    NaN\n",
              "70366  Electric usage  10/24/2018      23:30  ...   kWh  $0.01    NaN\n",
              "70367  Electric usage  10/24/2018      23:45  ...   kWh  $0.01    NaN\n",
              "\n",
              "[70368 rows x 8 columns]"
            ]
          },
          "metadata": {
            "tags": []
          },
          "execution_count": 3
        }
      ]
    },
    {
      "cell_type": "markdown",
      "metadata": {
        "id": "1JQecuBg59w9"
      },
      "source": [
        "Cek null value & cek info dataset"
      ]
    },
    {
      "cell_type": "code",
      "metadata": {
        "colab": {
          "base_uri": "https://localhost:8080/"
        },
        "id": "_7IXtvS2xJ26",
        "outputId": "b8dadad6-1675-452d-b1be-3a2578215588"
      },
      "source": [
        "print(df.isnull().sum())\n",
        "df.info()"
      ],
      "execution_count": 5,
      "outputs": [
        {
          "output_type": "stream",
          "text": [
            "TYPE              0\n",
            "DATE              0\n",
            "START TIME        0\n",
            "END TIME          0\n",
            "USAGE             0\n",
            "UNITS             0\n",
            "COST              0\n",
            "NOTES         70368\n",
            "dtype: int64\n",
            "<class 'pandas.core.frame.DataFrame'>\n",
            "RangeIndex: 70368 entries, 0 to 70367\n",
            "Data columns (total 8 columns):\n",
            " #   Column      Non-Null Count  Dtype  \n",
            "---  ------      --------------  -----  \n",
            " 0   TYPE        70368 non-null  object \n",
            " 1   DATE        70368 non-null  object \n",
            " 2   START TIME  70368 non-null  object \n",
            " 3   END TIME    70368 non-null  object \n",
            " 4   USAGE       70368 non-null  float64\n",
            " 5   UNITS       70368 non-null  object \n",
            " 6   COST        70368 non-null  object \n",
            " 7   NOTES       0 non-null      float64\n",
            "dtypes: float64(2), object(6)\n",
            "memory usage: 4.3+ MB\n"
          ],
          "name": "stdout"
        }
      ]
    },
    {
      "cell_type": "markdown",
      "metadata": {
        "id": "GE42-_Vf6FJU"
      },
      "source": [
        "Pisah kolom label dan fitur"
      ]
    },
    {
      "cell_type": "code",
      "metadata": {
        "id": "GJWHcfa2xNMx"
      },
      "source": [
        "dates = df['DATE'].values #label\n",
        "temp = df['USAGE'].values #fitur"
      ],
      "execution_count": 61,
      "outputs": []
    },
    {
      "cell_type": "markdown",
      "metadata": {
        "id": "NJJ78RLF6bQu"
      },
      "source": [
        "Buat plot untuk cek pola timeseries dan fitur"
      ]
    },
    {
      "cell_type": "code",
      "metadata": {
        "colab": {
          "base_uri": "https://localhost:8080/",
          "height": 259
        },
        "id": "ImVy73f0xOxT",
        "outputId": "70ff87a9-3819-4144-bc86-0965b416d24f"
      },
      "source": [
        "plt.figure(figsize=(20,5))\n",
        "plt.plot(dates, temp)\n",
        "plt.ylim([0,2.5])\n",
        "plt.ylabel('Usage')\n",
        "plt.xlabel('Date')\n",
        "plt.title('Usage', fontsize=20);"
      ],
      "execution_count": 62,
      "outputs": [
        {
          "output_type": "display_data",
          "data": {
            "image/png": "[encoded data removed]",
            "text/plain": [
              "<Figure size 1440x360 with 1 Axes>"
            ]
          },
          "metadata": {
            "tags": [],
            "needs_background": "light"
          }
        }
      ]
    },
    {
      "cell_type": "markdown",
      "metadata": {
        "id": "SjCgII0IdAxi"
      },
      "source": [
        "Bagi data training dan data testing"
      ]
    },
    {
      "cell_type": "code",
      "metadata": {
        "id": "nUdDSGR7dBvg"
      },
      "source": [
        "from sklearn.model_selection import train_test_split\n",
        "x_latih, x_test, y_latih, y_test = train_test_split(temp, dates, test_size = 0.2)"
      ],
      "execution_count": 63,
      "outputs": []
    },
    {
      "cell_type": "markdown",
      "metadata": {
        "id": "rad6Bbq_d2bA"
      },
      "source": [
        "Total pembagian data"
      ]
    },
    {
      "cell_type": "code",
      "metadata": {
        "colab": {
          "base_uri": "https://localhost:8080/"
        },
        "id": "KWU0whEydu-z",
        "outputId": "48d29282-fb19-47d9-c314-417caa711ded"
      },
      "source": [
        "print(\"Training data: \", len(x_latih))\n",
        "print(\"Val data: \", len(x_test))"
      ],
      "execution_count": 64,
      "outputs": [
        {
          "output_type": "stream",
          "text": [
            "Training data:  56294\n",
            "Val data:  14074\n"
          ],
          "name": "stdout"
        }
      ]
    },
    {
      "cell_type": "code",
      "metadata": {
        "id": "hLX0fWisxTbK"
      },
      "source": [
        "def windowed_dataset(series, window_size, batch_size, shuffle_buffer):\n",
        "    series = tf.expand_dims(series, axis=-1)\n",
        "    ds = tf.data.Dataset.from_tensor_slices(series)\n",
        "    ds = ds.window(window_size + 1, shift=1, drop_remainder=True)\n",
        "    ds = ds.flat_map(lambda w: w.batch(window_size + 1))\n",
        "    ds = ds.shuffle(shuffle_buffer)\n",
        "    ds = ds.map(lambda w: (w[:-1], w[-1:]))\n",
        "    return ds.batch(batch_size).prefetch(1)"
      ],
      "execution_count": 65,
      "outputs": []
    },
    {
      "cell_type": "markdown",
      "metadata": {
        "id": "yJHexfub6pUt"
      },
      "source": [
        "Bagi data train & data validation"
      ]
    },
    {
      "cell_type": "code",
      "metadata": {
        "id": "wwG6LpHdxU3U"
      },
      "source": [
        "train_set = windowed_dataset(x_latih, window_size=60, batch_size=128, shuffle_buffer=1000)\n",
        "val_set = windowed_dataset(x_test, window_size=60, batch_size=128, shuffle_buffer=1000)"
      ],
      "execution_count": 85,
      "outputs": []
    },
    {
      "cell_type": "markdown",
      "metadata": {
        "id": "b5Vq94gUeUcd"
      },
      "source": [
        "Buat Model"
      ]
    },
    {
      "cell_type": "code",
      "metadata": {
        "id": "_4L3wuZLeTPg"
      },
      "source": [
        "model = tf.keras.models.Sequential([\n",
        "  tf.keras.layers.LSTM(60, return_sequences=True),\n",
        "  tf.keras.layers.LSTM(60),\n",
        "  tf.keras.layers.Dense(60, activation=\"relu\"),\n",
        "  tf.keras.layers.Dense(10, activation=\"relu\"),\n",
        "  tf.keras.layers.Dense(1),\n",
        "])"
      ],
      "execution_count": 93,
      "outputs": []
    },
    {
      "cell_type": "markdown",
      "metadata": {
        "id": "7QJ6k8Ah3ExB"
      },
      "source": [
        "MAE Terkecil (10% skala data)"
      ]
    },
    {
      "cell_type": "code",
      "metadata": {
        "colab": {
          "base_uri": "https://localhost:8080/"
        },
        "id": "LImdraal3D3E",
        "outputId": "cf124c65-1b41-4625-d66c-5fa577d4b463"
      },
      "source": [
        "mae_terkecil = (temp.max() - temp.min()) * 10/100 #0.236\n",
        "print(mae_terkecil)"
      ],
      "execution_count": 87,
      "outputs": [
        {
          "output_type": "stream",
          "text": [
            "0.236\n"
          ],
          "name": "stdout"
        }
      ]
    },
    {
      "cell_type": "markdown",
      "metadata": {
        "id": "DWHS-Sp4fWkU"
      },
      "source": [
        "Menggunakan Callback"
      ]
    },
    {
      "cell_type": "code",
      "metadata": {
        "id": "VGNQzKDIfYLf"
      },
      "source": [
        "class myCallback(tf.keras.callbacks.Callback):\n",
        "  def on_epoch_end(self, epoch, logs={}):\n",
        "    if(logs.get('mae')<mae_terkecil and logs.get('val_mae')<mae_terkecil):\n",
        "      print(\"\\nMAE dari model < 10% skala data\")\n",
        "      self.model.stop_training = True\n",
        "callbacks = myCallback()"
      ],
      "execution_count": 91,
      "outputs": []
    },
    {
      "cell_type": "code",
      "metadata": {
        "colab": {
          "base_uri": "https://localhost:8080/"
        },
        "id": "bwYjgx4wxWoY",
        "outputId": "4a126e0b-ec61-41e0-8948-91b1ff6aa6ae"
      },
      "source": [
        "optimizer = tf.keras.optimizers.SGD(learning_rate=1.0000e-04, momentum=0.9)\n",
        "\n",
        "model.compile(loss=tf.keras.losses.Huber(),\n",
        "              optimizer=optimizer,\n",
        "              metrics=[\"mae\"])\n",
        "\n",
        "history = model.fit(train_set, epochs=15, \n",
        "                    validation_data = val_set,\n",
        "                    batch_size=128,\n",
        "                    callbacks=[callbacks])"
      ],
      "execution_count": 94,
      "outputs": [
        {
          "output_type": "stream",
          "text": [
            "Epoch 1/15\n",
            "440/440 [==============================] - 71s 151ms/step - loss: 0.0229 - mae: 0.0970 - val_loss: 0.0213 - val_mae: 0.0989\n",
            "\n",
            "MAE dari model < 10% skala data\n"
          ],
          "name": "stdout"
        }
      ]
    },
    {
      "cell_type": "markdown",
      "metadata": {
        "id": "q_zkn_4Bf4wp"
      },
      "source": [
        "Plot Akurasi dan Loss"
      ]
    },
    {
      "cell_type": "markdown",
      "metadata": {
        "id": "lRF_LDNjf78i"
      },
      "source": [
        "Plot Akurasi"
      ]
    },
    {
      "cell_type": "code",
      "metadata": {
        "colab": {
          "base_uri": "https://localhost:8080/",
          "height": 295
        },
        "id": "sFZl565df6wO",
        "outputId": "df2d643d-891d-451f-e1da-92558309cd51"
      },
      "source": [
        "plt.plot(history.history['mae'])\n",
        "plt.plot(history.history['val_mae'])\n",
        "plt.title('Akurasi Model')\n",
        "plt.ylabel('Mae')\n",
        "plt.xlabel('epoch')\n",
        "plt.xlim([0,15])\n",
        "plt.legend(['Train', 'Val'], loc='upper left')\n",
        "plt.show()"
      ],
      "execution_count": 98,
      "outputs": [
        {
          "output_type": "display_data",
          "data": {
            "image/png": "[encoded data removed]",
            "text/plain": [
              "<Figure size 432x288 with 1 Axes>"
            ]
          },
          "metadata": {
            "tags": [],
            "needs_background": "light"
          }
        }
      ]
    },
    {
      "cell_type": "markdown",
      "metadata": {
        "id": "L00vo0uaf_UC"
      },
      "source": [
        "Plot Loss"
      ]
    },
    {
      "cell_type": "code",
      "metadata": {
        "colab": {
          "base_uri": "https://localhost:8080/",
          "height": 295
        },
        "id": "JCDdFdvef_7U",
        "outputId": "b79cd2d7-43c1-4ef8-c1e6-1907de3409b5"
      },
      "source": [
        "plt.plot(history.history['loss'])\n",
        "plt.plot(history.history['val_loss'])\n",
        "plt.title('Loss Model')\n",
        "plt.ylabel('loss')\n",
        "plt.xlabel('epoch')\n",
        "plt.xlim([0,15])\n",
        "plt.legend(['Train', 'Val'], loc='upper left')\n",
        "plt.show()"
      ],
      "execution_count": 99,
      "outputs": [
        {
          "output_type": "display_data",
          "data": {
            "image/png": "[encoded data removed]",
            "text/plain": [
              "<Figure size 432x288 with 1 Axes>"
            ]
          },
          "metadata": {
            "tags": [],
            "needs_background": "light"
          }
        }
      ]
    }
  ]
}